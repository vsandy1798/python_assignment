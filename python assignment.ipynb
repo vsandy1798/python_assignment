{
 "cells": [
  {
   "cell_type": "markdown",
   "id": "5c922460-02fe-4b54-83f8-b4c4ca724900",
   "metadata": {},
   "source": [
    "Q1. Which keyword is used to create a function? Create a function to return a list of odd numbers in the\n",
    "range of 1 to 25."
   ]
  },
  {
   "cell_type": "markdown",
   "id": "d25bc5aa-50f9-4e56-b8c7-aebcac147a65",
   "metadata": {},
   "source": [
    "Ans."
   ]
  },
  {
   "cell_type": "code",
   "execution_count": 3,
   "id": "959f722a-4f83-44f0-bd1e-83ea89f96f33",
   "metadata": {},
   "outputs": [],
   "source": [
    "def test():\n",
    "    pass\n",
    "    "
   ]
  },
  {
   "cell_type": "code",
   "execution_count": 6,
   "id": "75056688-5f6d-4d21-9e77-9851779bb2c3",
   "metadata": {},
   "outputs": [],
   "source": [
    "def odd():\n",
    "    l1 = []\n",
    "    for i in range(25):\n",
    "        if i%2 != 0:\n",
    "            l1.append(i)\n",
    "    return l1        \n",
    "    "
   ]
  },
  {
   "cell_type": "code",
   "execution_count": 7,
   "id": "03604ab6-cafd-41ef-a284-876a7815bcaf",
   "metadata": {},
   "outputs": [
    {
     "data": {
      "text/plain": [
       "[1, 3, 5, 7, 9, 11, 13, 15, 17, 19, 21, 23]"
      ]
     },
     "execution_count": 7,
     "metadata": {},
     "output_type": "execute_result"
    }
   ],
   "source": [
    "odd()"
   ]
  },
  {
   "cell_type": "markdown",
   "id": "ce988218-3791-4cc5-9d88-80dd5da94e27",
   "metadata": {},
   "source": [
    "Q2. Why *args and **kwargs is used in some functions? Create a function each for *args and **kwargs to demonstrate their use."
   ]
  },
  {
   "cell_type": "markdown",
   "id": "ffb21cfd-30e7-43b7-8adb-8b485e1e0625",
   "metadata": {},
   "source": [
    "Ans."
   ]
  },
  {
   "cell_type": "markdown",
   "id": "6e10eaf2-e4ba-40b2-bc51-08edd1aab024",
   "metadata": {},
   "source": [
    "*args = means allow pass multiple input inside, and it convert in tuple data type and n number of arguments pass under this function. args is not a keyword like(*sandeep)\n",
    "\n",
    "**kwargs = means it convert into dictionary(dict) data type, in this we always give in keyvalues like (a = [1,2,3], b = \"snadeep\", c = 23.45 )"
   ]
  },
  {
   "cell_type": "code",
   "execution_count": 8,
   "id": "82d07514-bd5c-4d1d-89c5-e57dd9166965",
   "metadata": {},
   "outputs": [],
   "source": [
    "def sandeep(*vns):\n",
    "    return vns"
   ]
  },
  {
   "cell_type": "code",
   "execution_count": 9,
   "id": "322f47bd-12fb-436d-aa7d-43dc73efe3af",
   "metadata": {},
   "outputs": [
    {
     "data": {
      "text/plain": [
       "(1, 2, 3, 'sandy', [2, 3, 5], True, 35.28)"
      ]
     },
     "execution_count": 9,
     "metadata": {},
     "output_type": "execute_result"
    }
   ],
   "source": [
    "sandeep(1,2,3,\"sandy\",[2,3,5,],True,35.28)"
   ]
  },
  {
   "cell_type": "code",
   "execution_count": 10,
   "id": "52716e89-c5a7-4f30-8e7b-e5a980ec73e4",
   "metadata": {},
   "outputs": [],
   "source": [
    "def sam(**age):\n",
    "    return age"
   ]
  },
  {
   "cell_type": "code",
   "execution_count": 11,
   "id": "0a32e2c1-7b5a-4eeb-8d3e-0ffa052adf81",
   "metadata": {},
   "outputs": [
    {
     "data": {
      "text/plain": [
       "{'a': 2, 'b': [1, 3, 4, 5], 'c': 'sandy', 'd': 23.45}"
      ]
     },
     "execution_count": 11,
     "metadata": {},
     "output_type": "execute_result"
    }
   ],
   "source": [
    "sam(a=2, b=[1,3,4,5], c=\"sandy\", d=23.45)"
   ]
  },
  {
   "cell_type": "markdown",
   "id": "25590992-26d3-4a77-a516-35733d1c16e7",
   "metadata": {},
   "source": [
    "Q3. What is an iterator in python? Name the method used to initialise the iterator object and the method\n",
    "used for iteration. Use these methods to print the first five elements of the given list [2, 4, 6, 8, 10, 12, 14,16, 18, 20]."
   ]
  },
  {
   "cell_type": "markdown",
   "id": "141cd1da-826a-4c43-b4ef-2c071f4caa16",
   "metadata": {},
   "source": [
    "Ans."
   ]
  },
  {
   "cell_type": "markdown",
   "id": "7284485d-96fc-4a95-b928-d6cc89d0d717",
   "metadata": {},
   "source": [
    "iterator = means we found the data one by one in list means next to next data, and string(str) data type is iterable but not iterator\n",
    "           str can be change in iterator by iter."
   ]
  },
  {
   "cell_type": "code",
   "execution_count": 18,
   "id": "6d3242ae-bfc1-4311-8737-d86cc951f144",
   "metadata": {},
   "outputs": [
    {
     "name": "stdout",
     "output_type": "stream",
     "text": [
      "2\n",
      "4\n",
      "6\n",
      "8\n",
      "10\n"
     ]
    }
   ],
   "source": [
    "l = [2, 4, 6, 8, 10, 12, 14, 16, 18, 20]\n",
    "l1 = iter(l)\n",
    "for i in range(5):\n",
    "    print(next(l1))\n"
   ]
  },
  {
   "cell_type": "markdown",
   "id": "e33d9d8a-619d-4cbb-8aee-09bfd7e681a4",
   "metadata": {},
   "source": [
    "Q4. What is a generator function in python? Why yield keyword is used? Give an example of a generator function."
   ]
  },
  {
   "cell_type": "markdown",
   "id": "71be51ae-7b78-448f-ba24-daebfbcc31b1",
   "metadata": {},
   "source": [
    "Ans."
   ]
  },
  {
   "cell_type": "markdown",
   "id": "b48bae5a-878c-4df4-95ac-ca72ef325bd9",
   "metadata": {},
   "source": [
    "by using yield key word we create a generator function, Generator function is gives data one by one at the end point.\n",
    "\n",
    "Ex."
   ]
  },
  {
   "cell_type": "code",
   "execution_count": 33,
   "id": "940184c0-754f-47bb-abb9-d4505d7e42de",
   "metadata": {},
   "outputs": [],
   "source": [
    "def ex(n):\n",
    "    a = 1\n",
    "    for i in range(n):\n",
    "        yield a\n",
    "        a += i\n",
    "        "
   ]
  },
  {
   "cell_type": "code",
   "execution_count": 34,
   "id": "ed7a0e36-09a7-45f4-8a7d-df08224121ba",
   "metadata": {},
   "outputs": [
    {
     "name": "stdout",
     "output_type": "stream",
     "text": [
      "1\n",
      "1\n",
      "2\n",
      "4\n",
      "7\n",
      "11\n",
      "16\n",
      "22\n",
      "29\n",
      "37\n"
     ]
    }
   ],
   "source": [
    "for i in ex(10):\n",
    "    print(i)"
   ]
  },
  {
   "cell_type": "markdown",
   "id": "ade5592d-0aaa-458b-b82a-0d6469fafbe1",
   "metadata": {},
   "source": [
    "Q5. Create a generator function for prime numbers less than 1000. Use the next() method to print the first 20 prime numbers."
   ]
  },
  {
   "cell_type": "markdown",
   "id": "eea17576-be4b-4a25-b54d-01210e61367e",
   "metadata": {},
   "source": [
    "Ans."
   ]
  },
  {
   "cell_type": "code",
   "execution_count": 39,
   "id": "4849fe63-ed69-410b-9de0-6dbfc09ce9a6",
   "metadata": {},
   "outputs": [],
   "source": [
    "def prime():\n",
    "    a = int\n",
    "    for i in range(1000):\n",
    "        if i != 0:\n",
    "            c = 0\n",
    "            for j in range(i):\n",
    "                if j>1 and i%j==0:\n",
    "                    c+=1\n",
    "            if c==0:\n",
    "                yield a\n",
    "                a=i"
   ]
  },
  {
   "cell_type": "code",
   "execution_count": 40,
   "id": "2e018a39-2ffd-439f-9cd1-0677c027f9f1",
   "metadata": {},
   "outputs": [
    {
     "name": "stdout",
     "output_type": "stream",
     "text": [
      "<class 'int'>\n",
      "1\n",
      "2\n",
      "3\n",
      "5\n",
      "7\n",
      "11\n",
      "13\n",
      "17\n",
      "19\n",
      "23\n",
      "29\n",
      "31\n",
      "37\n",
      "41\n",
      "43\n",
      "47\n",
      "53\n",
      "59\n",
      "61\n"
     ]
    }
   ],
   "source": [
    "prime_1 = prime()\n",
    "for i in range(20):\n",
    "    print(next(prime_1))"
   ]
  },
  {
   "cell_type": "markdown",
   "id": "8a6d6ec6-3268-480e-9837-3e892918ea75",
   "metadata": {},
   "source": [
    "Q6. Write a python program to print the first 10 Fibonacci numbers using a while loop."
   ]
  },
  {
   "cell_type": "markdown",
   "id": "1985c64e-4e88-4e59-b1c6-866411373b80",
   "metadata": {},
   "source": [
    "ans."
   ]
  },
  {
   "cell_type": "code",
   "execution_count": 44,
   "id": "d27f90e8-941e-4d7a-98f3-e55c1d520dd1",
   "metadata": {},
   "outputs": [],
   "source": [
    "def fib():\n",
    "    a,b = 0,1\n",
    "    while True:\n",
    "        yield a\n",
    "        a,b = b, b+a\n",
    "     \n",
    " "
   ]
  },
  {
   "cell_type": "code",
   "execution_count": 45,
   "id": "24de1583-1b38-4aa5-9fd9-b16c587270d9",
   "metadata": {},
   "outputs": [
    {
     "name": "stdout",
     "output_type": "stream",
     "text": [
      "0\n",
      "1\n",
      "1\n",
      "2\n",
      "3\n",
      "5\n",
      "8\n",
      "13\n",
      "21\n",
      "34\n"
     ]
    }
   ],
   "source": [
    "light = fib()\n",
    "for i in range(10):\n",
    "     print(next(light))"
   ]
  },
  {
   "cell_type": "markdown",
   "id": "addf508a-da67-4ca2-8e26-87c1daa214bd",
   "metadata": {},
   "source": [
    "Q7. Write a List Comprehension to iterate through the given string: ‘pwskills’.\n",
    "Expected output: ['p', 'w', 's', 'k', 'i', 'l', 'l', 's']"
   ]
  },
  {
   "cell_type": "markdown",
   "id": "ce41176f-c5d7-4cd6-9d32-4b17e6b43c49",
   "metadata": {},
   "source": [
    "Ans."
   ]
  },
  {
   "cell_type": "code",
   "execution_count": 49,
   "id": "1f036279-20e6-4213-8ee8-caaf76f3fd6c",
   "metadata": {},
   "outputs": [
    {
     "data": {
      "text/plain": [
       "['p', 'w', 's', 'k', 'i', 'l', 'l', 's']"
      ]
     },
     "execution_count": 49,
     "metadata": {},
     "output_type": "execute_result"
    }
   ],
   "source": [
    "s = \"pwskills\"\n",
    "l1 = []\n",
    "for i in s:\n",
    "    l1.append(i)\n",
    "    \n",
    "l1    "
   ]
  },
  {
   "cell_type": "markdown",
   "id": "eb185566-e746-4e6c-919c-ac0c6cc08a8f",
   "metadata": {},
   "source": [
    "Q8. Write a python program to check whether a given number is Palindrome or not using a while loop."
   ]
  },
  {
   "cell_type": "markdown",
   "id": "e789c113-d602-469e-ae26-996771f3ef6a",
   "metadata": {},
   "source": [
    "Ans."
   ]
  },
  {
   "cell_type": "code",
   "execution_count": 50,
   "id": "180f0e38-d4f8-4be7-a35a-018c71c592d6",
   "metadata": {},
   "outputs": [
    {
     "name": "stdin",
     "output_type": "stream",
     "text": [
      " 23432\n"
     ]
    },
    {
     "name": "stdout",
     "output_type": "stream",
     "text": [
      "Pallindrome haii\n"
     ]
    }
   ],
   "source": [
    "s=input()\n",
    "l=list(s)\n",
    "l1=l[::-1]\n",
    "k=0\n",
    "i=0\n",
    "while i<len(l):\n",
    "    if(l[i]==l1[i]):\n",
    "        k+=1\n",
    "    i+=1\n",
    "if k==len(l):\n",
    "    print(\"Pallindrome haii\")\n",
    "else:\n",
    "    print(\"Pallindrome nhi hai\")"
   ]
  },
  {
   "cell_type": "markdown",
   "id": "08900b9a-84ca-4331-92d0-243c98bd7015",
   "metadata": {},
   "source": [
    "Q9. Write a code to print odd numbers from 1 to 100 using list comprehension."
   ]
  },
  {
   "cell_type": "markdown",
   "id": "62f2be8c-0366-42f8-94cd-15460d11d4cc",
   "metadata": {},
   "source": [
    "Ans."
   ]
  },
  {
   "cell_type": "code",
   "execution_count": 59,
   "id": "ab25d460-81a1-4c6a-ad91-e411edc8a33e",
   "metadata": {},
   "outputs": [
    {
     "data": {
      "text/plain": [
       "[1,\n",
       " 3,\n",
       " 5,\n",
       " 7,\n",
       " 9,\n",
       " 11,\n",
       " 13,\n",
       " 15,\n",
       " 17,\n",
       " 19,\n",
       " 21,\n",
       " 23,\n",
       " 25,\n",
       " 27,\n",
       " 29,\n",
       " 31,\n",
       " 33,\n",
       " 35,\n",
       " 37,\n",
       " 39,\n",
       " 41,\n",
       " 43,\n",
       " 45,\n",
       " 47,\n",
       " 49,\n",
       " 51,\n",
       " 53,\n",
       " 55,\n",
       " 57,\n",
       " 59,\n",
       " 61,\n",
       " 63,\n",
       " 65,\n",
       " 67,\n",
       " 69,\n",
       " 71,\n",
       " 73,\n",
       " 75,\n",
       " 77,\n",
       " 79,\n",
       " 81,\n",
       " 83,\n",
       " 85,\n",
       " 87,\n",
       " 89,\n",
       " 91,\n",
       " 93,\n",
       " 95,\n",
       " 97,\n",
       " 99]"
      ]
     },
     "execution_count": 59,
     "metadata": {},
     "output_type": "execute_result"
    }
   ],
   "source": [
    "l = []\n",
    "for i in range(100):\n",
    "    l.append(i+1)\n",
    "    \n",
    "list(filter(lambda x:x%2!=0, l))\n",
    " "
   ]
  },
  {
   "cell_type": "code",
   "execution_count": null,
   "id": "2fab7286-c160-4e48-865a-d5872a0c0160",
   "metadata": {},
   "outputs": [],
   "source": []
  }
 ],
 "metadata": {
  "kernelspec": {
   "display_name": "Python 3 (ipykernel)",
   "language": "python",
   "name": "python3"
  },
  "language_info": {
   "codemirror_mode": {
    "name": "ipython",
    "version": 3
   },
   "file_extension": ".py",
   "mimetype": "text/x-python",
   "name": "python",
   "nbconvert_exporter": "python",
   "pygments_lexer": "ipython3",
   "version": "3.10.8"
  }
 },
 "nbformat": 4,
 "nbformat_minor": 5
}
